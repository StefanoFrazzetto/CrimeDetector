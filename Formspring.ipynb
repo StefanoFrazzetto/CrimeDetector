{
 "cells": [
  {
   "cell_type": "markdown",
   "metadata": {},
   "source": [
    "# Dataset: Formspring v4\n",
    "The Formspring v4 dataset consists of 12773 entries scraped from Formspring.me in Summer 2010. Entries were labelled through Amazon Mechanical Turk [[1](#amt2018)] by three annotators, each of them reporting if the entry was considered a cyberbullying trace, the word(s) or phrase(s) identified as the reason it was tagged as cyberbullying, and a severity number from 0 to 10. Because of labelling inconsistencies, the severity field has not been taken into account when evaluating the message. Also, in several instances, annotators had conflicting opinions on whether messages contained instances of cyberbullying or not. To address these labelling inconsistencies, an additional parsing method has been implemented: if the message has been flagged as containing cyberbullying by at least two of the three annotators, then it is considered a cyberbullying trace."
   ]
  },
  {
   "cell_type": "markdown",
   "metadata": {},
   "source": [
    "## Setup\n",
    "\n",
    "The necessary modules are imported, the corpus to parse is chosen, and the logger is initialized."
   ]
  },
  {
   "cell_type": "code",
   "execution_count": 1,
   "metadata": {
    "pycharm": {
     "is_executing": false
    }
   },
   "outputs": [
    {
     "name": "stdout",
     "output_type": "stream",
     "text": [
      "[2019-07-08 00:33:06] Logger initialized.\n"
     ]
    }
   ],
   "source": [
    "from Classification import Benchmark, ClassifierType, MetricType, FeatureExtraction, FeatureExtractionStep\n",
    "from Data import Dataset\n",
    "from PreProcessing import CorpusName, CorpusParser\n",
    "from Utils import Log, Time\n",
    "from Utils.Log import LogOutput, LogLevel\n",
    "\n",
    "# Select corpus name.\n",
    "corpus_name = CorpusName.FORMSPRING\n",
    "corpus_path = \"./datasets/formspring/formspring_data.csv\"\n",
    "\n",
    "# Initialize logger.\n",
    "output_path = f'./out/{Time.get_timestamp(\"%Y-%m-%d\")}_{corpus_name}'\n",
    "Log.init(path=output_path)"
   ]
  },
  {
   "cell_type": "markdown",
   "metadata": {
    "pycharm": {
     "name": "#%% md\n"
    }
   },
   "source": [
    "## Corpus parser and dataset container\n",
    "\n",
    "The parser and the dataset container are initialized. \n",
    "\n",
    "The _democratic parsing_ method is used as discussed in [section 3.3.2](https://stefanofrazzetto.com/wp-content/uploads/2019/04/Stefano-Frazzetto-Dissertation.pdf#subsection.3.3.2) of my dissertation [[2](#frazzetto2019)]."
   ]
  },
  {
   "cell_type": "code",
   "execution_count": 2,
   "metadata": {
    "pycharm": {
     "is_executing": false,
     "name": "#%%\n"
    }
   },
   "outputs": [
    {
     "name": "stdout",
     "output_type": "stream",
     "text": [
      "[2019-07-08 00:33:06] Deserializing FormspringParser... \n",
      "[2019-07-08 00:33:06] Done deserializing.\n",
      "[2019-07-08 00:33:06] Positive: 764 - Negative: 12009 / Total: 12773\n"
     ]
    }
   ],
   "source": [
    "parser = CorpusParser.factory(\n",
    "    corpus_name=corpus_name, \n",
    "    source_path=corpus_path, \n",
    "    democratic=True,\n",
    "    deserialize=True\n",
    ")\n",
    "\n",
    "dataset = Dataset(parser.get_params(), corpus_name=corpus_name)\n",
    "\n",
    "parser.parse()\n",
    "parser.log_info()"
   ]
  },
  {
   "cell_type": "markdown",
   "metadata": {
    "pycharm": {
     "name": "#%% md\n"
    }
   },
   "source": [
    "## Populating the dataset\n",
    "\n",
    "The dataset is populated with the samples extracted using the parser."
   ]
  },
  {
   "cell_type": "code",
   "execution_count": 3,
   "metadata": {
    "pycharm": {
     "is_executing": false,
     "name": "#%%\n"
    }
   },
   "outputs": [
    {
     "data": {
      "text/html": [
       "<table>\n",
       "<thead>\n",
       "<tr><th>Subset  </th><th style=\"text-align: right;\">  Positive</th><th style=\"text-align: right;\">  Negative</th><th style=\"text-align: right;\">  Positive %</th><th style=\"text-align: right;\">  % of total samples</th></tr>\n",
       "</thead>\n",
       "<tbody>\n",
       "<tr><td>Training</td><td style=\"text-align: right;\">       650</td><td style=\"text-align: right;\">     10207</td><td style=\"text-align: right;\">        5.99</td><td style=\"text-align: right;\">                  85</td></tr>\n",
       "<tr><td>Testing </td><td style=\"text-align: right;\">       114</td><td style=\"text-align: right;\">      1802</td><td style=\"text-align: right;\">        5.95</td><td style=\"text-align: right;\">                  15</td></tr>\n",
       "<tr><td>Total   </td><td style=\"text-align: right;\">       764</td><td style=\"text-align: right;\">     12009</td><td style=\"text-align: right;\">        5.98</td><td style=\"text-align: right;\">                 100</td></tr>\n",
       "</tbody>\n",
       "</table>"
      ],
      "text/plain": [
       "<IPython.core.display.HTML object>"
      ]
     },
     "metadata": {},
     "output_type": "display_data"
    }
   ],
   "source": [
    "parser.add_to_dataset(dataset)\n",
    "dataset.finalize()\n",
    "dataset.log_info()"
   ]
  },
  {
   "cell_type": "markdown",
   "metadata": {
    "pycharm": {
     "name": "#%% md\n"
    }
   },
   "source": [
    "## Balance subsets\n",
    "Training and testing subsets are balanced with a samples ratio of 5:1 (negative samples over positives), if achievable."
   ]
  },
  {
   "cell_type": "code",
   "execution_count": 4,
   "metadata": {
    "pycharm": {
     "is_executing": false,
     "name": "#%%\n"
    }
   },
   "outputs": [
    {
     "name": "stdout",
     "output_type": "stream",
     "text": [
      "[2019-07-08 00:33:06] Dropping majority class samples for the training subset.\n",
      "[2019-07-08 00:33:06] Dropping majority class samples for the testing subset.\n"
     ]
    },
    {
     "data": {
      "text/html": [
       "<table>\n",
       "<thead>\n",
       "<tr><th>Subset  </th><th style=\"text-align: right;\">  Positive</th><th style=\"text-align: right;\">  Negative</th><th style=\"text-align: right;\">  Positive %</th><th style=\"text-align: right;\">  % of total samples</th></tr>\n",
       "</thead>\n",
       "<tbody>\n",
       "<tr><td>Training</td><td style=\"text-align: right;\">       650</td><td style=\"text-align: right;\">      3250</td><td style=\"text-align: right;\">       16.67</td><td style=\"text-align: right;\">               85.08</td></tr>\n",
       "<tr><td>Testing </td><td style=\"text-align: right;\">       114</td><td style=\"text-align: right;\">       570</td><td style=\"text-align: right;\">       16.67</td><td style=\"text-align: right;\">               14.92</td></tr>\n",
       "<tr><td>Total   </td><td style=\"text-align: right;\">       764</td><td style=\"text-align: right;\">      3820</td><td style=\"text-align: right;\">       16.67</td><td style=\"text-align: right;\">              100   </td></tr>\n",
       "</tbody>\n",
       "</table>"
      ],
      "text/plain": [
       "<IPython.core.display.HTML object>"
      ]
     },
     "metadata": {},
     "output_type": "display_data"
    }
   ],
   "source": [
    "dataset.balance_all(5)\n",
    "dataset.log_info()"
   ]
  },
  {
   "cell_type": "markdown",
   "metadata": {
    "pycharm": {
     "name": "#%% md\n"
    }
   },
   "source": [
    "## Initialize feature extraction pipeline\n",
    "\n",
    "The feature extraction pipeline is initialized:\n",
    "\n",
    "The dataset is transformed into training data for the machine learning algorithms by vectorizing it, applying Term Frequency--Inverse Document Frequency (TF-IDF), and oversampling it, i.e. adding _synthetic samples_, with ADASYN. The number of features for the vectorization process is intentionally left unbounded to make use of all the features available. "
   ]
  },
  {
   "cell_type": "code",
   "execution_count": 5,
   "metadata": {
    "pycharm": {
     "is_executing": false,
     "name": "#%%\n"
    }
   },
   "outputs": [
    {
     "name": "stderr",
     "output_type": "stream",
     "text": [
      "[nltk_data] Downloading package punkt to /home/stefano/nltk_data...\n",
      "[nltk_data]   Package punkt is already up-to-date!\n"
     ]
    },
    {
     "name": "stdout",
     "output_type": "stream",
     "text": [
      "[2019-07-08 00:33:07] Extracting features using the following pipeline:\n",
      "[2019-07-08 00:33:07] \t- CountVectorizer\n",
      "[2019-07-08 00:33:07] \t- TF-IDF\n",
      "[2019-07-08 00:33:07] \t- Over-sampling with ADASYN\n"
     ]
    }
   ],
   "source": [
    "feature_extraction = FeatureExtraction(\n",
    "    FeatureExtractionStep.TFIDF,\n",
    "    FeatureExtractionStep.OVERSAMPLE_ADASYN,\n",
    "    dataset=dataset,\n",
    "    max_features=None,\n",
    ")"
   ]
  },
  {
   "cell_type": "markdown",
   "metadata": {
    "pycharm": {
     "name": "#%% md\n"
    }
   },
   "source": [
    "## Initialize classifiers\n",
    "Classifiers are added to the benchmark and initialized with the data extracted using the previously created pipeline."
   ]
  },
  {
   "cell_type": "code",
   "execution_count": 6,
   "metadata": {
    "pycharm": {
     "is_executing": false,
     "name": "#%%\n"
    }
   },
   "outputs": [
    {
     "name": "stdout",
     "output_type": "stream",
     "text": [
      "[2019-07-08 00:33:08] Initializing classifiers...\n",
      "[2019-07-08 00:33:32] Classifiers initialized correctly.\n"
     ]
    }
   ],
   "source": [
    "benchmark = Benchmark(dataset=dataset, feature_extraction=feature_extraction)\n",
    "benchmark.add_classifier(ClassifierType.RandomForest)\n",
    "benchmark.add_classifier(ClassifierType.MultiLayerPerceptron)\n",
    "benchmark.add_classifier(ClassifierType.SupportVectorMachine)\n",
    "benchmark.add_classifier(ClassifierType.MultinomialNaiveBayes)\n",
    "benchmark.add_classifier(ClassifierType.LogisticRegression)\n",
    "benchmark.initialize_classifiers()"
   ]
  },
  {
   "cell_type": "markdown",
   "metadata": {
    "pycharm": {
     "name": "#%% md\n"
    }
   },
   "source": [
    "## Run benchmark\n",
    "\n",
    "The benchmark is run on the testing subset. This subset is split into five smaller subsets.\n",
    "\n",
    "To generate the evaluation metrics, the testing is split into five smaller subsets, and classifiers are evaluated on each of them. This is done to create a more balanced estimate of the results.\n"
   ]
  },
  {
   "cell_type": "code",
   "execution_count": 7,
   "metadata": {
    "pycharm": {
     "is_executing": false,
     "name": "#%%\n"
    }
   },
   "outputs": [
    {
     "name": "stdout",
     "output_type": "stream",
     "text": [
      "[2019-07-08 00:33:32] Starting benchmarking process.\n",
      "[2019-07-08 00:33:33] Benchmark process completed.\n"
     ]
    }
   ],
   "source": [
    "benchmark.run(5)"
   ]
  },
  {
   "cell_type": "markdown",
   "metadata": {
    "pycharm": {
     "name": "#%% md\n"
    }
   },
   "source": [
    "## Plots\n",
    "\n",
    "The results obtained are finally plotted. As it can be seen from the graphic below, the Logistic Regression (LR) algorithm produced the highest results for the Matthews Correlation Coefficient, reaching a median value of approximately 0.7.\n"
   ]
  },
  {
   "cell_type": "code",
   "execution_count": 9,
   "metadata": {
    "pycharm": {
     "is_executing": false,
     "name": "#%%\n"
    },
    "scrolled": true
   },
   "outputs": [
    {
     "data": {
      "image/png": "[encoded data removed]",
      "text/plain": [
       "<Figure size 720x720 with 1 Axes>"
      ]
     },
     "metadata": {
      "needs_background": "light"
     },
     "output_type": "display_data"
    }
   ],
   "source": [
    "benchmark.plot_metrics(MetricType.MCC)"
   ]
  },
  {
   "cell_type": "markdown",
   "metadata": {},
   "source": [
    "# Bibliography\n",
    "\n",
    "<a id=\"amt2018\">1.</a> Amazon Mechanical Turk Inc., 2018. [Online]. Available: https://www.mturk.com/.\n",
    "\n",
    "<a id=\"frazzetto2019\">2.</a> S. Frazzetto, \"Automated Crime Detection and Classification in Online Chats using Machine Learning\", May 2019. \\[Online\\]. Available: https://stefanofrazzetto.com/dissertation/"
   ]
  }
 ],
 "metadata": {
  "kernelspec": {
   "display_name": "PyCharm (Dissertation)",
   "language": "python",
   "name": "pycharm-248d244d"
  },
  "language_info": {
   "codemirror_mode": {
    "name": "ipython",
    "version": 3
   },
   "file_extension": ".py",
   "mimetype": "text/x-python",
   "name": "python",
   "nbconvert_exporter": "python",
   "pygments_lexer": "ipython3",
   "version": "3.7.0"
  },
  "pycharm": {
   "stem_cell": {
    "cell_type": "raw",
    "metadata": {
     "collapsed": false
    },
    "source": []
   }
  },
  "toc": {
   "base_numbering": 1,
   "nav_menu": {
    "height": "415px",
    "width": "296px"
   },
   "number_sections": true,
   "sideBar": true,
   "skip_h1_title": false,
   "title_cell": "Table of Contents",
   "title_sidebar": "Contents",
   "toc_cell": false,
   "toc_position": {},
   "toc_section_display": true,
   "toc_window_display": false
  },
  "widgets": {
   "application/vnd.jupyter.widget-state+json": {
    "state": {},
    "version_major": 2,
    "version_minor": 0
   }
  }
 },
 "nbformat": 4,
 "nbformat_minor": 2
}
