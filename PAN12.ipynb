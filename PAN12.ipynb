{
 "cells": [
  {
   "cell_type": "markdown",
   "metadata": {},
   "source": [
    "# Dataset: PAN-12\n",
    "\n",
    "The dataset has been created for the PAN-12 international competition [[1](#bib-1)] using the chats, gathered by the non-profit organization Perverted-Justice Foundation, occurred between experts who\n",
    "posed as minors and convicted predators. It contains a total of 155128 conversations, stored in\n",
    "a single XML file, collected from publicly available IRC chat logs containing conversations\n",
    "mainly about computers and web technologies. For this reason, performances are expected to\n",
    "decrease in real world applications, where conversation topics are heterogeneous [[2](#bib-2)]."
   ]
  },
  {
   "cell_type": "markdown",
   "metadata": {},
   "source": [
    "## Setup\n",
    "\n",
    "The necessary modules are imported, the corpus to parse is chosen, and the logger is initialized."
   ]
  },
  {
   "cell_type": "code",
   "execution_count": 1,
   "metadata": {
    "pycharm": {
     "is_executing": false
    }
   },
   "outputs": [
    {
     "name": "stdout",
     "output_type": "stream",
     "text": [
      "[2019-07-08 00:38:10] Logger initialized.\n"
     ]
    }
   ],
   "source": [
    "from Classification import Benchmark, ClassifierType, MetricType, FeatureExtraction, FeatureExtractionStep\n",
    "from Data import Dataset\n",
    "from PreProcessing import CorpusName, CorpusParser\n",
    "from Utils import Log, Time\n",
    "from Utils.Log import LogOutput, LogLevel\n",
    "\n",
    "# Select corpus name.\n",
    "corpus_name = CorpusName.PAN12\n",
    "corpus_path = \"./datasets/pan12\"\n",
    "\n",
    "# Initialize logger.\n",
    "output_path = f'./out/{Time.get_timestamp(\"%Y-%m-%d\")}_{corpus_name}'\n",
    "Log.init(path=output_path)"
   ]
  },
  {
   "cell_type": "markdown",
   "metadata": {
    "pycharm": {
     "name": "#%% md\n"
    }
   },
   "source": [
    "## Corpus parser and dataset container\n",
    "\n",
    "The parser and the dataset container are initialized. \n",
    "\n",
    "The _merge messages_ method, discussed in [section 3.3.1](https://stefanofrazzetto.com/wp-content/uploads/2019/04/Stefano-Frazzetto-Dissertation.pdf#subsection.3.3.1) of my dissertation [[3](#bib-3)], is not used as it does not improve the results obtained."
   ]
  },
  {
   "cell_type": "code",
   "execution_count": 2,
   "metadata": {
    "pycharm": {
     "is_executing": false,
     "name": "#%%\n"
    },
    "scrolled": true
   },
   "outputs": [
    {
     "name": "stdout",
     "output_type": "stream",
     "text": [
      "[2019-07-08 00:38:10] Parsing PAN12 corpus... \n",
      "[2019-07-08 00:38:10] Loading ground truth files... done.\n",
      "[2019-07-08 00:38:10] Problem files parsed successfully.\n",
      "[2019-07-08 00:38:45] Parsing done.\n",
      "[2019-07-08 00:38:45] Serializing 'pan12parser_26084d73cd79e79d011fa51aa61639c0859f95571851baa10b899a32af9c9502.dat'...\n",
      "[2019-07-08 00:38:54] Done serializing.\n"
     ]
    },
    {
     "data": {
      "text/html": [
       "<table>\n",
       "<thead>\n",
       "<tr><th>Element      </th><th style=\"text-align: right;\">  Total</th><th style=\"text-align: right;\">  No. Flagged</th><th style=\"text-align: right;\">  Flagged %</th></tr>\n",
       "</thead>\n",
       "<tbody>\n",
       "<tr><td>Conversations</td><td style=\"text-align: right;\"> 155128</td><td style=\"text-align: right;\">          834</td><td style=\"text-align: right;\">       0.54</td></tr>\n",
       "<tr><td>Messages     </td><td style=\"text-align: right;\">2058781</td><td style=\"text-align: right;\">         6478</td><td style=\"text-align: right;\">       0.31</td></tr>\n",
       "<tr><td>Authors      </td><td style=\"text-align: right;\"> 218702</td><td style=\"text-align: right;\">          254</td><td style=\"text-align: right;\">       0.12</td></tr>\n",
       "</tbody>\n",
       "</table>"
      ],
      "text/plain": [
       "<IPython.core.display.HTML object>"
      ]
     },
     "metadata": {},
     "output_type": "display_data"
    }
   ],
   "source": [
    "parser = CorpusParser.factory(\n",
    "    corpus_name=corpus_name, \n",
    "    source_path=corpus_path, \n",
    "    merge_messages=False,\n",
    "    deserialize=True\n",
    ")\n",
    "\n",
    "dataset = Dataset(parser.get_params(), corpus_name=corpus_name)\n",
    "\n",
    "parser.parse()\n",
    "parser.log_info()"
   ]
  },
  {
   "cell_type": "markdown",
   "metadata": {
    "pycharm": {
     "name": "#%% md\n"
    }
   },
   "source": [
    "## Populating the dataset\n",
    "\n",
    "The dataset is populated with the samples extracted using the parser."
   ]
  },
  {
   "cell_type": "code",
   "execution_count": 3,
   "metadata": {
    "pycharm": {
     "is_executing": false,
     "name": "#%%\n"
    }
   },
   "outputs": [
    {
     "data": {
      "text/html": [
       "<table>\n",
       "<thead>\n",
       "<tr><th>Subset  </th><th style=\"text-align: right;\">  Positive</th><th style=\"text-align: right;\">        Negative</th><th style=\"text-align: right;\">  Positive %</th><th style=\"text-align: right;\">  % of total samples</th></tr>\n",
       "</thead>\n",
       "<tbody>\n",
       "<tr><td>Training</td><td style=\"text-align: right;\">      5522</td><td style=\"text-align: right;\">     1.74444e+06</td><td style=\"text-align: right;\">        0.32</td><td style=\"text-align: right;\">                  85</td></tr>\n",
       "<tr><td>Testing </td><td style=\"text-align: right;\">       956</td><td style=\"text-align: right;\">307861          </td><td style=\"text-align: right;\">        0.31</td><td style=\"text-align: right;\">                  15</td></tr>\n",
       "<tr><td>Total   </td><td style=\"text-align: right;\">      6478</td><td style=\"text-align: right;\">     2.0523e+06 </td><td style=\"text-align: right;\">        0.31</td><td style=\"text-align: right;\">                 100</td></tr>\n",
       "</tbody>\n",
       "</table>"
      ],
      "text/plain": [
       "<IPython.core.display.HTML object>"
      ]
     },
     "metadata": {},
     "output_type": "display_data"
    }
   ],
   "source": [
    "parser.add_to_dataset(dataset)\n",
    "dataset.finalize()\n",
    "dataset.log_info()"
   ]
  },
  {
   "cell_type": "markdown",
   "metadata": {
    "pycharm": {
     "name": "#%% md\n"
    }
   },
   "source": [
    "## Balance subsets\n",
    "Training and testing subsets are balanced with a samples ratio of 5:1 (negative samples over positives), if achievable."
   ]
  },
  {
   "cell_type": "code",
   "execution_count": 4,
   "metadata": {
    "pycharm": {
     "is_executing": false,
     "name": "#%%\n"
    }
   },
   "outputs": [
    {
     "name": "stdout",
     "output_type": "stream",
     "text": [
      "[2019-07-08 00:39:03] Dropping majority class samples for the training subset.\n",
      "[2019-07-08 00:39:04] Dropping majority class samples for the testing subset.\n"
     ]
    },
    {
     "data": {
      "text/html": [
       "<table>\n",
       "<thead>\n",
       "<tr><th>Subset  </th><th style=\"text-align: right;\">  Positive</th><th style=\"text-align: right;\">  Negative</th><th style=\"text-align: right;\">  Positive %</th><th style=\"text-align: right;\">  % of total samples</th></tr>\n",
       "</thead>\n",
       "<tbody>\n",
       "<tr><td>Training</td><td style=\"text-align: right;\">      5522</td><td style=\"text-align: right;\">     27610</td><td style=\"text-align: right;\">       16.67</td><td style=\"text-align: right;\">               85.24</td></tr>\n",
       "<tr><td>Testing </td><td style=\"text-align: right;\">       956</td><td style=\"text-align: right;\">      4780</td><td style=\"text-align: right;\">       16.67</td><td style=\"text-align: right;\">               14.76</td></tr>\n",
       "<tr><td>Total   </td><td style=\"text-align: right;\">      6478</td><td style=\"text-align: right;\">     32390</td><td style=\"text-align: right;\">       16.67</td><td style=\"text-align: right;\">              100   </td></tr>\n",
       "</tbody>\n",
       "</table>"
      ],
      "text/plain": [
       "<IPython.core.display.HTML object>"
      ]
     },
     "metadata": {},
     "output_type": "display_data"
    }
   ],
   "source": [
    "dataset.balance_all(5)\n",
    "dataset.log_info()"
   ]
  },
  {
   "cell_type": "markdown",
   "metadata": {
    "pycharm": {
     "name": "#%% md\n"
    }
   },
   "source": [
    "## Initialize feature extraction pipeline\n",
    "\n",
    "The feature extraction pipeline is initialized:\n",
    "\n",
    "The dataset is transformed into training data for the machine learning algorithms by tokenizing the words using a Snowball stemmer, vectorizing it, and applying Term Frequency--Inverse Document Frequency (TF-IDF). The number of features for the vectorization process is intentionally left unbounded to make use of all the features available. "
   ]
  },
  {
   "cell_type": "code",
   "execution_count": 5,
   "metadata": {
    "pycharm": {
     "is_executing": false,
     "name": "#%%\n"
    }
   },
   "outputs": [
    {
     "name": "stderr",
     "output_type": "stream",
     "text": [
      "[nltk_data] Downloading package punkt to /home/stefano/nltk_data...\n",
      "[nltk_data]   Package punkt is already up-to-date!\n"
     ]
    },
    {
     "name": "stdout",
     "output_type": "stream",
     "text": [
      "[2019-07-08 00:39:04] Extracting features using the following pipeline:\n",
      "[2019-07-08 00:39:04] \t- Tokenizer\n",
      "[2019-07-08 00:39:04] \t- CountVectorizer\n",
      "[2019-07-08 00:39:09] \t- TF-IDF\n"
     ]
    }
   ],
   "source": [
    "feature_extraction = FeatureExtraction(\n",
    "    FeatureExtractionStep.TOKENIZE,\n",
    "    FeatureExtractionStep.TFIDF,\n",
    "    dataset=dataset,\n",
    "    max_features=None,\n",
    ")"
   ]
  },
  {
   "cell_type": "markdown",
   "metadata": {
    "pycharm": {
     "name": "#%% md\n"
    }
   },
   "source": [
    "## Initialize classifiers\n",
    "Classifiers are added to the benchmark and initialized with the data extracted using the previously created pipeline."
   ]
  },
  {
   "cell_type": "code",
   "execution_count": 6,
   "metadata": {
    "pycharm": {
     "is_executing": false,
     "name": "#%%\n"
    }
   },
   "outputs": [
    {
     "name": "stdout",
     "output_type": "stream",
     "text": [
      "[2019-07-08 00:39:10] Initializing classifiers...\n",
      "[2019-07-08 00:42:16] Classifiers initialized correctly.\n"
     ]
    }
   ],
   "source": [
    "benchmark = Benchmark(dataset=dataset, feature_extraction=feature_extraction)\n",
    "benchmark.add_classifier(ClassifierType.RandomForest)\n",
    "benchmark.add_classifier(ClassifierType.MultiLayerPerceptron)\n",
    "benchmark.add_classifier(ClassifierType.SupportVectorMachine)\n",
    "benchmark.add_classifier(ClassifierType.MultinomialNaiveBayes)\n",
    "benchmark.add_classifier(ClassifierType.LogisticRegression)\n",
    "benchmark.initialize_classifiers()"
   ]
  },
  {
   "cell_type": "markdown",
   "metadata": {
    "pycharm": {
     "name": "#%% md\n"
    }
   },
   "source": [
    "## Run benchmark\n",
    "The benchmark is run on the testing subset. This subset is split into five smaller subsets.\n",
    "\n",
    "To generate the evaluation metrics, the testing is split into five smaller subsets, and classifiers are evaluated on each of them. This is done to create a more balanced estimate of the results."
   ]
  },
  {
   "cell_type": "code",
   "execution_count": 7,
   "metadata": {
    "pycharm": {
     "is_executing": false,
     "name": "#%%\n"
    }
   },
   "outputs": [
    {
     "name": "stdout",
     "output_type": "stream",
     "text": [
      "[2019-07-08 00:42:16] Starting benchmarking process.\n",
      "[2019-07-08 00:42:26] Benchmark process completed.\n"
     ]
    }
   ],
   "source": [
    "benchmark.run(5)"
   ]
  },
  {
   "cell_type": "markdown",
   "metadata": {
    "pycharm": {
     "name": "#%% md\n"
    }
   },
   "source": [
    "## Plots\n",
    "\n",
    "The results obtain are finally plotted. As it can be seen from the graphic below, the Multi-Layer Perceptron (MLP) produced the highest results, with the highest value for the Matthews Correlation Coefficient almost reaching 0.8."
   ]
  },
  {
   "cell_type": "code",
   "execution_count": 9,
   "metadata": {
    "pycharm": {
     "is_executing": false,
     "name": "#%%\n"
    },
    "scrolled": true
   },
   "outputs": [
    {
     "data": {
      "image/png": "[encoded data removed]",
      "text/plain": [
       "<Figure size 720x720 with 1 Axes>"
      ]
     },
     "metadata": {
      "needs_background": "light"
     },
     "output_type": "display_data"
    }
   ],
   "source": [
    "benchmark.plot_metrics(MetricType.MCC)"
   ]
  },
  {
   "cell_type": "markdown",
   "metadata": {},
   "source": [
    "# Bibliography\n",
    "\n",
    "<a id=\"bib-1\">1.</a> G. Inches and F. Crestani, “Overview of the International Sexual Predator Identification\n",
    "Competition at PAN-2012,” in CLEF 2012 Evaluation Labs and Workshop – Working\n",
    "Notes Papers, 17-20 September, Rome, Italy, P. Forner, J. Karlgren, and C. Womser-\n",
    "65\n",
    "Hacker, Eds., Sep. 2012, ISBN: 978-88-904810-3-1. \\[Online\\]. Available: http://www.clef-initiative.eu/publication/working-notes.\n",
    "\n",
    "<a id=\"bib-2\">2.</a> M. Ebrahimi, C. Y. Suen, and O. Ormandjieva, “Detecting predatory conversations in\n",
    "social media by deep convolutional neural networks,” Digital Investigation, vol. 18, Jul.2016. DOI: [10.1016/j.diin.2016.07.001](https://doi.org/10.1016/j.diin.2016.07.001).\n",
    "\n",
    "<a id=\"bib-3\">3.</a> S. Frazzetto, \"Automated Crime Detection and Classification in Online Chats using Machine Learning\", May 2019. \\[Online\\]. Available: https://stefanofrazzetto.com/dissertation/"
   ]
  }
 ],
 "metadata": {
  "kernelspec": {
   "display_name": "PyCharm (Dissertation)",
   "language": "python",
   "name": "pycharm-248d244d"
  },
  "language_info": {
   "codemirror_mode": {
    "name": "ipython",
    "version": 3
   },
   "file_extension": ".py",
   "mimetype": "text/x-python",
   "name": "python",
   "nbconvert_exporter": "python",
   "pygments_lexer": "ipython3",
   "version": "3.7.0"
  },
  "latex_envs": {
   "LaTeX_envs_menu_present": true,
   "autoclose": false,
   "autocomplete": true,
   "bibliofile": "biblio.bib",
   "cite_by": "apalike",
   "current_citInitial": 1,
   "eqLabelWithNumbers": true,
   "eqNumInitial": 1,
   "hotkeys": {
    "equation": "Ctrl-E",
    "itemize": "Ctrl-I"
   },
   "labels_anchors": false,
   "latex_user_defs": false,
   "report_style_numbering": false,
   "user_envs_cfg": false
  },
  "pycharm": {
   "stem_cell": {
    "cell_type": "raw",
    "metadata": {
     "collapsed": false
    },
    "source": []
   }
  },
  "toc": {
   "base_numbering": 1,
   "nav_menu": {
    "height": "447px",
    "width": "397px"
   },
   "number_sections": true,
   "sideBar": true,
   "skip_h1_title": false,
   "title_cell": "Table of Contents",
   "title_sidebar": "Contents",
   "toc_cell": false,
   "toc_position": {},
   "toc_section_display": true,
   "toc_window_display": false
  },
  "widgets": {
   "application/vnd.jupyter.widget-state+json": {
    "state": {},
    "version_major": 2,
    "version_minor": 0
   }
  }
 },
 "nbformat": 4,
 "nbformat_minor": 2
}
